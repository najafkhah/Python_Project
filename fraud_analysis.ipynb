{
 "cells": [
  {
   "cell_type": "code",
   "execution_count": null,
   "metadata": {},
   "outputs": [],
   "source": [
    "import pandas as pd\n",
    "import seaborn as sns\n",
    "import matplotlib.pyplot as plt\n",
    "\n",
    "df = pd.read_csv(\"C:/Users/n10652388/OneDrive - Queensland University of Technology/CV/Work/Github/Python/project/financial_fraud_detection_dataset.csv\")\n"
   ]
  },
  {
   "cell_type": "code",
   "execution_count": null,
   "metadata": {},
   "outputs": [],
   "source": [
    "# Print first few rows to confirm it's loaded\n",
    "print(df.head())\n"
   ]
  },
  {
   "cell_type": "code",
   "execution_count": null,
   "metadata": {},
   "outputs": [],
   "source": [
    "# Print summary statistics (count, mean, std, min, max, and quartiles) for each numerical column \n",
    "print(df.describe())\n",
    "\n",
    "print(df.info())\n"
   ]
  },
  {
   "cell_type": "code",
   "execution_count": null,
   "metadata": {},
   "outputs": [],
   "source": [
    "# drop null values\n",
    "df.dropna(inplace=True)\n"
   ]
  },
  {
   "cell_type": "code",
   "execution_count": null,
   "metadata": {},
   "outputs": [],
   "source": [
    "# Display the names of all columns in the DataFrame\n",
    "df.columns\n"
   ]
  },
  {
   "cell_type": "code",
   "execution_count": null,
   "metadata": {},
   "outputs": [],
   "source": [
    "#rename column\n",
    "df.rename(columns={\"merchant_category\":\"merchant_type\"})\n"
   ]
  },
  {
   "cell_type": "code",
   "execution_count": null,
   "metadata": {},
   "outputs": [],
   "source": [
    "# use describe() for specific columns\n",
    "df[['transaction_type','location', 'device_used']].describe()\n"
   ]
  },
  {
   "cell_type": "code",
   "execution_count": null,
   "metadata": {},
   "outputs": [],
   "source": [
    "# plotting a bar chart for location and it's count\n",
    "\n",
    "ax = sns.countplot(x = 'location',data = df)\n",
    "\n",
    "for bars in ax.containers:\n",
    "    ax.bar_label(bars)\n",
    "    plt.show()\n"
   ]
  },
  {
   "cell_type": "code",
   "execution_count": null,
   "metadata": {},
   "outputs": [],
   "source": [
    " # This plot reveals which merchant types have higher spending\n",
    "\n",
    "amount_merchant_type = df.groupby(['merchant_category'], as_index=False)['amount'].sum().sort_values(by='amount', ascending=False)\n",
    "sns.barplot(x = 'merchant_category',y= 'amount' ,data = amount_merchant_type)\n",
    "plt.xticks(rotation=45)\n",
    "plt.show()\n"
   ]
  },
  {
   "cell_type": "code",
   "execution_count": null,
   "metadata": {},
   "outputs": [],
   "source": [
    "# Plotting the count of fraudulent vs. non-fraudulent transactions\n",
    "sns.countplot(x='is_fraud', data=df)\n",
    "plt.title('Fraudulent vs. Non-Fraudulent Transactions')\n",
    "plt.xticks([0, 1], ['Not Fraud', 'Fraud'])\n",
    "plt.show()\n"
   ]
  },
  {
   "cell_type": "code",
   "execution_count": null,
   "metadata": {},
   "outputs": [],
   "source": [
    "# Calculating and plotting the average transaction amount by transaction type\n",
    "avg_amount_type = df.groupby('transaction_type')['amount'].mean().reset_index().sort_values(by='amount', ascending=False)\n",
    "\n",
    "sns.barplot(x='transaction_type', y='amount', data=avg_amount_type)\n",
    "plt.title('Average Transaction Amount by Type')\n",
    "plt.xticks(rotation=45)\n",
    "plt.show()\n"
   ]
  },
  {
   "cell_type": "code",
   "execution_count": null,
   "metadata": {},
   "outputs": [],
   "source": [
    "# Counting and plotting the number of fraud cases by location\n",
    "fraud_by_location = df[df['is_fraud'] == 1].groupby('location').size().reset_index(name='fraud_count').sort_values(by='fraud_count', ascending=False)\n",
    "\n",
    "sns.barplot(x='location', y='fraud_count', data=fraud_by_location)\n",
    "plt.title('Fraud Count by Location')\n",
    "plt.xticks(rotation=45)\n",
    "plt.show()\n"
   ]
  },
  {
   "cell_type": "code",
   "execution_count": null,
   "metadata": {},
   "outputs": [],
   "source": [
    "# Boxplot showing the distribution of time since last transaction for fraud and non-fraud cases\n",
    "sns.boxplot(x='is_fraud', y='time_since_last_transaction', data=df)\n",
    "plt.title('Time Since Last Transaction: Fraud vs Non-Fraud')\n",
    "plt.xticks([0, 1], ['Not Fraud', 'Fraud'])\n",
    "plt.show()\n"
   ]
  },
  {
   "cell_type": "code",
   "execution_count": null,
   "metadata": {},
   "outputs": [],
   "source": [
    "# Validate fraud labels\n",
    "print(df['is_fraud'].value_counts(dropna=False))\n",
    "print(df['is_fraud'].unique())\n",
    "\n",
    "df = pd.read_csv(\n",
    "    \"C:/Users/n10652388/OneDrive - Queensland University of Technology/CV/Work/Github/Python/project/financial_fraud_detection_dataset.csv\",\n",
    "    converters={'is_fraud': lambda x: x == 'True'}\n",
    ")\n"
   ]
  },
  {
   "cell_type": "code",
   "execution_count": null,
   "metadata": {},
   "outputs": [],
   "source": [
    "# Show the first few actual values in the 'is_fraud' column\n",
    "print(df['is_fraud'].unique())\n",
    "print(df['is_fraud'].value_counts())\n",
    "\n"
   ]
  },
  {
   "cell_type": "code",
   "execution_count": null,
   "metadata": {},
   "outputs": [],
   "source": [
    "# Countplot of fraud vs. non-fraud\n",
    "sns.countplot(x='is_fraud', data=df)\n",
    "plt.title(\"Fraudulent vs. Non-Fraudulent Transactions\")\n",
    "plt.xticks([0, 1], ['Not Fraud', 'Fraud'])\n",
    "plt.ylabel(\"Number of Transactions\")\n",
    "plt.xlabel(\"Transaction Type\")\n",
    "plt.show()\n"
   ]
  },
  {
   "cell_type": "code",
   "execution_count": null,
   "metadata": {},
   "outputs": [],
   "source": [
    "# Hypothesis \"Do transactions made using mobile devices have a different average amount than those made using ATMs?\"\n",
    "from scipy.stats import ttest_ind\n"
   ]
  },
  {
   "cell_type": "code",
   "execution_count": null,
   "metadata": {},
   "outputs": [],
   "source": [
    "# Filter data\n",
    "mobile = df[df['device_used'] == 'mobile']['amount'].dropna()\n",
    "atm = df[df['device_used'] == 'atm']['amount'].dropna()\n"
   ]
  },
  {
   "cell_type": "code",
   "execution_count": null,
   "metadata": {},
   "outputs": [],
   "source": [
    "# Perform Welch's T-test\n",
    "t_stat, p_val = ttest_ind(mobile, atm, equal_var=False)\n"
   ]
  },
  {
   "cell_type": "code",
   "execution_count": null,
   "metadata": {},
   "outputs": [],
   "source": [
    "# Show results\n",
    "print(\"T-statistic:\", t_stat)\n",
    "print(\"P-value:\", p_val)\n",
    "\n",
    "if p_val < 0.05:\n",
    "    print(\"Reject the null hypothesis. Mobile and ATM transaction amounts differ significantly.\")\n",
    "else:\n",
    "    print(\"Fail to reject the null hypothesis. No significant difference between mobile and ATM transaction amounts.\")\n",
    "\n"
   ]
  }
 ],
 "metadata": {
  "language_info": {
   "codemirror_mode": {
    "name": "ipython",
    "version": 3
   },
   "file_extension": ".py",
   "mimetype": "text/x-python",
   "name": "python",
   "nbconvert_exporter": "python",
   "pygments_lexer": "ipython3",
   "version": 3
  }
 },
 "nbformat": 4,
 "nbformat_minor": 2
}
