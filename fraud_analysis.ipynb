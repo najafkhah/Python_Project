{
 "cells": [
  {
   "cell_type": "markdown",
   "metadata": {},
   "source": [
    "# Financial Fraud Detection Analysis\n",
    "\n",
    "This notebook demonstrates exploratory data analysis and hypothesis testing on a synthetic financial transactions dataset to uncover patterns related to fraudulent activities."
   ]
  },
  {
   "cell_type": "code",
   "execution_count": 5,
   "metadata": {},
   "outputs": [],
   "source": [
    "import pandas as pd\n",
    "import seaborn as sns\n",
    "import matplotlib.pyplot as plt\n",
    "\n",
    "df = pd.read_csv(\"C:/Users/n10652388/OneDrive - Queensland University of Technology/CV/Work/Github/Python/project/financial_fraud_detection_dataset2.csv\")\n"
   ]
  },
  {
   "cell_type": "code",
   "execution_count": 6,
   "metadata": {},
   "outputs": [
    {
     "name": "stdout",
     "output_type": "stream",
     "text": [
      "  transaction_id                   timestamp sender_account receiver_account  \\\n",
      "0        T100000  2023-08-22T09:22:43.516168      ACC877572        ACC388389   \n",
      "1        T100001  2023-08-04T01:58:02.606711      ACC895667        ACC944962   \n",
      "2        T100002  2023-05-12T11:39:33.742963      ACC733052        ACC377370   \n",
      "3        T100003  2023-10-10T06:04:43.195112      ACC996865        ACC344098   \n",
      "4        T100004  2023-09-24T08:09:02.700162      ACC584714        ACC497887   \n",
      "\n",
      "    amount transaction_type merchant_category location device_used  is_fraud  \\\n",
      "0   343.78       withdrawal         utilities    Tokyo      mobile     False   \n",
      "1   419.65       withdrawal            online  Toronto         atm     False   \n",
      "2  2773.86          deposit             other   London         pos     False   \n",
      "3  1666.22          deposit            online   Sydney         pos     False   \n",
      "4    24.43         transfer         utilities  Toronto      mobile     False   \n",
      "\n",
      "  fraud_type  time_since_last_transaction  spending_deviation_score  \\\n",
      "0        NaN                          NaN                     -0.21   \n",
      "1        NaN                          NaN                     -0.14   \n",
      "2        NaN                          NaN                     -1.78   \n",
      "3        NaN                          NaN                     -0.60   \n",
      "4        NaN                          NaN                      0.79   \n",
      "\n",
      "   velocity_score  geo_anomaly_score payment_channel       ip_address  \\\n",
      "0               3               0.22            card   13.101.214.112   \n",
      "1               7               0.96             ACH    172.52.47.194   \n",
      "2              20               0.89            card     185.98.35.23   \n",
      "3               6               0.37   wire_transfer    107.136.36.87   \n",
      "4              13               0.27             ACH  108.161.108.255   \n",
      "\n",
      "  device_hash  \n",
      "0    D8536477  \n",
      "1    D2622631  \n",
      "2    D4823498  \n",
      "3    D9961380  \n",
      "4    D7637601  \n"
     ]
    }
   ],
   "source": [
    "# Print first few rows to confirm it's loaded\n",
    "print(df.head())\n"
   ]
  },
  {
   "cell_type": "code",
   "execution_count": 7,
   "metadata": {},
   "outputs": [
    {
     "name": "stdout",
     "output_type": "stream",
     "text": [
      "             amount  time_since_last_transaction  spending_deviation_score  \\\n",
      "count  5.000000e+06                 4.103487e+06              5.000000e+06   \n",
      "mean   3.589343e+02                 1.525799e+00             -3.881160e-04   \n",
      "std    4.699333e+02                 3.576569e+03              1.000807e+00   \n",
      "min    1.000000e-02                -8.777814e+03             -5.260000e+00   \n",
      "25%    2.657000e+01                -2.562376e+03             -6.800000e-01   \n",
      "50%    1.386700e+02                 8.442747e-01              0.000000e+00   \n",
      "75%    5.038900e+02                 2.568339e+03              6.700000e-01   \n",
      "max    3.520570e+03                 8.757758e+03              5.020000e+00   \n",
      "\n",
      "       velocity_score  geo_anomaly_score  \n",
      "count    5.000000e+06       5.000000e+06  \n",
      "mean     1.050132e+01       5.000293e-01  \n",
      "std      5.766842e+00       2.886349e-01  \n",
      "min      1.000000e+00       0.000000e+00  \n",
      "25%      5.000000e+00       2.500000e-01  \n",
      "50%      1.100000e+01       5.000000e-01  \n",
      "75%      1.600000e+01       7.500000e-01  \n",
      "max      2.000000e+01       1.000000e+00  \n",
      "<class 'pandas.core.frame.DataFrame'>\n",
      "RangeIndex: 5000000 entries, 0 to 4999999\n",
      "Data columns (total 18 columns):\n",
      " #   Column                       Dtype  \n",
      "---  ------                       -----  \n",
      " 0   transaction_id               object \n",
      " 1   timestamp                    object \n",
      " 2   sender_account               object \n",
      " 3   receiver_account             object \n",
      " 4   amount                       float64\n",
      " 5   transaction_type             object \n",
      " 6   merchant_category            object \n",
      " 7   location                     object \n",
      " 8   device_used                  object \n",
      " 9   is_fraud                     bool   \n",
      " 10  fraud_type                   object \n",
      " 11  time_since_last_transaction  float64\n",
      " 12  spending_deviation_score     float64\n",
      " 13  velocity_score               int64  \n",
      " 14  geo_anomaly_score            float64\n",
      " 15  payment_channel              object \n",
      " 16  ip_address                   object \n",
      " 17  device_hash                  object \n",
      "dtypes: bool(1), float64(4), int64(1), object(12)\n",
      "memory usage: 653.3+ MB\n",
      "None\n"
     ]
    }
   ],
   "source": [
    "# Print summary statistics (count, mean, std, min, max, and quartiles) for each numerical column \n",
    "print(df.describe())\n",
    "\n",
    "print(df.info())\n"
   ]
  },
  {
   "cell_type": "code",
   "execution_count": 8,
   "metadata": {},
   "outputs": [],
   "source": [
    "# drop null values\n",
    "df.dropna(inplace=True)\n"
   ]
  },
  {
   "cell_type": "code",
   "execution_count": 9,
   "metadata": {},
   "outputs": [
    {
     "data": {
      "text/plain": [
       "Index(['transaction_id', 'timestamp', 'sender_account', 'receiver_account',\n",
       "       'amount', 'transaction_type', 'merchant_category', 'location',\n",
       "       'device_used', 'is_fraud', 'fraud_type', 'time_since_last_transaction',\n",
       "       'spending_deviation_score', 'velocity_score', 'geo_anomaly_score',\n",
       "       'payment_channel', 'ip_address', 'device_hash'],\n",
       "      dtype='object')"
      ]
     },
     "execution_count": 9,
     "metadata": {},
     "output_type": "execute_result"
    }
   ],
   "source": [
    "# Display the names of all columns in the DataFrame\n",
    "df.columns\n"
   ]
  },
  {
   "cell_type": "code",
   "execution_count": 10,
   "metadata": {},
   "outputs": [
    {
     "data": {
      "text/html": [
       "<div>\n",
       "<style scoped>\n",
       "    .dataframe tbody tr th:only-of-type {\n",
       "        vertical-align: middle;\n",
       "    }\n",
       "\n",
       "    .dataframe tbody tr th {\n",
       "        vertical-align: top;\n",
       "    }\n",
       "\n",
       "    .dataframe thead th {\n",
       "        text-align: right;\n",
       "    }\n",
       "</style>\n",
       "<table border=\"1\" class=\"dataframe\">\n",
       "  <thead>\n",
       "    <tr style=\"text-align: right;\">\n",
       "      <th></th>\n",
       "      <th>transaction_id</th>\n",
       "      <th>timestamp</th>\n",
       "      <th>sender_account</th>\n",
       "      <th>receiver_account</th>\n",
       "      <th>amount</th>\n",
       "      <th>transaction_type</th>\n",
       "      <th>merchant_type</th>\n",
       "      <th>location</th>\n",
       "      <th>device_used</th>\n",
       "      <th>is_fraud</th>\n",
       "      <th>fraud_type</th>\n",
       "      <th>time_since_last_transaction</th>\n",
       "      <th>spending_deviation_score</th>\n",
       "      <th>velocity_score</th>\n",
       "      <th>geo_anomaly_score</th>\n",
       "      <th>payment_channel</th>\n",
       "      <th>ip_address</th>\n",
       "      <th>device_hash</th>\n",
       "    </tr>\n",
       "  </thead>\n",
       "  <tbody>\n",
       "    <tr>\n",
       "      <th>7720</th>\n",
       "      <td>T107720</td>\n",
       "      <td>2023-02-27T09:09:10.721286</td>\n",
       "      <td>ACC391250</td>\n",
       "      <td>ACC499875</td>\n",
       "      <td>50.80</td>\n",
       "      <td>withdrawal</td>\n",
       "      <td>online</td>\n",
       "      <td>Tokyo</td>\n",
       "      <td>mobile</td>\n",
       "      <td>True</td>\n",
       "      <td>card_not_present</td>\n",
       "      <td>-4435.604463</td>\n",
       "      <td>-1.18</td>\n",
       "      <td>16</td>\n",
       "      <td>0.51</td>\n",
       "      <td>ACH</td>\n",
       "      <td>207.94.248.163</td>\n",
       "      <td>D9978939</td>\n",
       "    </tr>\n",
       "    <tr>\n",
       "      <th>14513</th>\n",
       "      <td>T114513</td>\n",
       "      <td>2023-03-11T04:52:42.790807</td>\n",
       "      <td>ACC853799</td>\n",
       "      <td>ACC774781</td>\n",
       "      <td>1099.03</td>\n",
       "      <td>deposit</td>\n",
       "      <td>grocery</td>\n",
       "      <td>Berlin</td>\n",
       "      <td>atm</td>\n",
       "      <td>True</td>\n",
       "      <td>card_not_present</td>\n",
       "      <td>-543.435253</td>\n",
       "      <td>0.18</td>\n",
       "      <td>8</td>\n",
       "      <td>0.47</td>\n",
       "      <td>UPI</td>\n",
       "      <td>34.66.126.237</td>\n",
       "      <td>D9225721</td>\n",
       "    </tr>\n",
       "    <tr>\n",
       "      <th>21111</th>\n",
       "      <td>T121111</td>\n",
       "      <td>2023-09-21T23:06:03.802962</td>\n",
       "      <td>ACC743015</td>\n",
       "      <td>ACC311170</td>\n",
       "      <td>18.73</td>\n",
       "      <td>transfer</td>\n",
       "      <td>retail</td>\n",
       "      <td>Berlin</td>\n",
       "      <td>atm</td>\n",
       "      <td>True</td>\n",
       "      <td>card_not_present</td>\n",
       "      <td>3339.160882</td>\n",
       "      <td>0.57</td>\n",
       "      <td>10</td>\n",
       "      <td>0.50</td>\n",
       "      <td>ACH</td>\n",
       "      <td>115.218.159.229</td>\n",
       "      <td>D6163373</td>\n",
       "    </tr>\n",
       "    <tr>\n",
       "      <th>24247</th>\n",
       "      <td>T124247</td>\n",
       "      <td>2023-03-23T18:47:07.370345</td>\n",
       "      <td>ACC693265</td>\n",
       "      <td>ACC304655</td>\n",
       "      <td>1057.66</td>\n",
       "      <td>deposit</td>\n",
       "      <td>other</td>\n",
       "      <td>Singapore</td>\n",
       "      <td>mobile</td>\n",
       "      <td>True</td>\n",
       "      <td>card_not_present</td>\n",
       "      <td>-5616.318212</td>\n",
       "      <td>-0.11</td>\n",
       "      <td>1</td>\n",
       "      <td>0.93</td>\n",
       "      <td>ACH</td>\n",
       "      <td>102.102.14.51</td>\n",
       "      <td>D1201766</td>\n",
       "    </tr>\n",
       "    <tr>\n",
       "      <th>24325</th>\n",
       "      <td>T124325</td>\n",
       "      <td>2023-03-01T15:29:39.072741</td>\n",
       "      <td>ACC773851</td>\n",
       "      <td>ACC321187</td>\n",
       "      <td>26.36</td>\n",
       "      <td>payment</td>\n",
       "      <td>other</td>\n",
       "      <td>Tokyo</td>\n",
       "      <td>pos</td>\n",
       "      <td>True</td>\n",
       "      <td>card_not_present</td>\n",
       "      <td>-2102.467519</td>\n",
       "      <td>-0.06</td>\n",
       "      <td>7</td>\n",
       "      <td>0.22</td>\n",
       "      <td>UPI</td>\n",
       "      <td>134.105.153.161</td>\n",
       "      <td>D6904335</td>\n",
       "    </tr>\n",
       "    <tr>\n",
       "      <th>...</th>\n",
       "      <td>...</td>\n",
       "      <td>...</td>\n",
       "      <td>...</td>\n",
       "      <td>...</td>\n",
       "      <td>...</td>\n",
       "      <td>...</td>\n",
       "      <td>...</td>\n",
       "      <td>...</td>\n",
       "      <td>...</td>\n",
       "      <td>...</td>\n",
       "      <td>...</td>\n",
       "      <td>...</td>\n",
       "      <td>...</td>\n",
       "      <td>...</td>\n",
       "      <td>...</td>\n",
       "      <td>...</td>\n",
       "      <td>...</td>\n",
       "      <td>...</td>\n",
       "    </tr>\n",
       "    <tr>\n",
       "      <th>4999814</th>\n",
       "      <td>T5099814</td>\n",
       "      <td>2023-06-04T05:47:39.381373</td>\n",
       "      <td>ACC824330</td>\n",
       "      <td>ACC126013</td>\n",
       "      <td>200.26</td>\n",
       "      <td>withdrawal</td>\n",
       "      <td>utilities</td>\n",
       "      <td>Singapore</td>\n",
       "      <td>mobile</td>\n",
       "      <td>True</td>\n",
       "      <td>card_not_present</td>\n",
       "      <td>1056.262600</td>\n",
       "      <td>-0.20</td>\n",
       "      <td>2</td>\n",
       "      <td>0.13</td>\n",
       "      <td>card</td>\n",
       "      <td>255.41.159.2</td>\n",
       "      <td>D4594677</td>\n",
       "    </tr>\n",
       "    <tr>\n",
       "      <th>4999886</th>\n",
       "      <td>T5099886</td>\n",
       "      <td>2023-07-23T16:38:43.662222</td>\n",
       "      <td>ACC735835</td>\n",
       "      <td>ACC491358</td>\n",
       "      <td>587.96</td>\n",
       "      <td>deposit</td>\n",
       "      <td>entertainment</td>\n",
       "      <td>Toronto</td>\n",
       "      <td>atm</td>\n",
       "      <td>True</td>\n",
       "      <td>card_not_present</td>\n",
       "      <td>-1921.513458</td>\n",
       "      <td>0.77</td>\n",
       "      <td>6</td>\n",
       "      <td>0.19</td>\n",
       "      <td>UPI</td>\n",
       "      <td>17.184.148.68</td>\n",
       "      <td>D9526544</td>\n",
       "    </tr>\n",
       "    <tr>\n",
       "      <th>4999892</th>\n",
       "      <td>T5099892</td>\n",
       "      <td>2023-01-10T11:34:08.818944</td>\n",
       "      <td>ACC808026</td>\n",
       "      <td>ACC225738</td>\n",
       "      <td>5.82</td>\n",
       "      <td>transfer</td>\n",
       "      <td>restaurant</td>\n",
       "      <td>Berlin</td>\n",
       "      <td>atm</td>\n",
       "      <td>True</td>\n",
       "      <td>card_not_present</td>\n",
       "      <td>-4157.968161</td>\n",
       "      <td>-0.65</td>\n",
       "      <td>10</td>\n",
       "      <td>0.23</td>\n",
       "      <td>ACH</td>\n",
       "      <td>137.138.63.155</td>\n",
       "      <td>D4334446</td>\n",
       "    </tr>\n",
       "    <tr>\n",
       "      <th>4999926</th>\n",
       "      <td>T5099926</td>\n",
       "      <td>2023-12-14T07:07:37.586015</td>\n",
       "      <td>ACC699171</td>\n",
       "      <td>ACC585765</td>\n",
       "      <td>269.33</td>\n",
       "      <td>deposit</td>\n",
       "      <td>entertainment</td>\n",
       "      <td>Sydney</td>\n",
       "      <td>mobile</td>\n",
       "      <td>True</td>\n",
       "      <td>card_not_present</td>\n",
       "      <td>4273.501792</td>\n",
       "      <td>-1.09</td>\n",
       "      <td>20</td>\n",
       "      <td>0.75</td>\n",
       "      <td>wire_transfer</td>\n",
       "      <td>98.198.189.192</td>\n",
       "      <td>D2985475</td>\n",
       "    </tr>\n",
       "    <tr>\n",
       "      <th>4999940</th>\n",
       "      <td>T5099940</td>\n",
       "      <td>2023-02-22T07:14:57.516626</td>\n",
       "      <td>ACC797752</td>\n",
       "      <td>ACC309711</td>\n",
       "      <td>56.65</td>\n",
       "      <td>payment</td>\n",
       "      <td>restaurant</td>\n",
       "      <td>Berlin</td>\n",
       "      <td>web</td>\n",
       "      <td>True</td>\n",
       "      <td>card_not_present</td>\n",
       "      <td>-2884.790413</td>\n",
       "      <td>0.73</td>\n",
       "      <td>7</td>\n",
       "      <td>0.36</td>\n",
       "      <td>card</td>\n",
       "      <td>94.110.88.113</td>\n",
       "      <td>D6468788</td>\n",
       "    </tr>\n",
       "  </tbody>\n",
       "</table>\n",
       "<p>179553 rows × 18 columns</p>\n",
       "</div>"
      ],
      "text/plain": [
       "        transaction_id                   timestamp sender_account  \\\n",
       "7720           T107720  2023-02-27T09:09:10.721286      ACC391250   \n",
       "14513          T114513  2023-03-11T04:52:42.790807      ACC853799   \n",
       "21111          T121111  2023-09-21T23:06:03.802962      ACC743015   \n",
       "24247          T124247  2023-03-23T18:47:07.370345      ACC693265   \n",
       "24325          T124325  2023-03-01T15:29:39.072741      ACC773851   \n",
       "...                ...                         ...            ...   \n",
       "4999814       T5099814  2023-06-04T05:47:39.381373      ACC824330   \n",
       "4999886       T5099886  2023-07-23T16:38:43.662222      ACC735835   \n",
       "4999892       T5099892  2023-01-10T11:34:08.818944      ACC808026   \n",
       "4999926       T5099926  2023-12-14T07:07:37.586015      ACC699171   \n",
       "4999940       T5099940  2023-02-22T07:14:57.516626      ACC797752   \n",
       "\n",
       "        receiver_account   amount transaction_type  merchant_type   location  \\\n",
       "7720           ACC499875    50.80       withdrawal         online      Tokyo   \n",
       "14513          ACC774781  1099.03          deposit        grocery     Berlin   \n",
       "21111          ACC311170    18.73         transfer         retail     Berlin   \n",
       "24247          ACC304655  1057.66          deposit          other  Singapore   \n",
       "24325          ACC321187    26.36          payment          other      Tokyo   \n",
       "...                  ...      ...              ...            ...        ...   \n",
       "4999814        ACC126013   200.26       withdrawal      utilities  Singapore   \n",
       "4999886        ACC491358   587.96          deposit  entertainment    Toronto   \n",
       "4999892        ACC225738     5.82         transfer     restaurant     Berlin   \n",
       "4999926        ACC585765   269.33          deposit  entertainment     Sydney   \n",
       "4999940        ACC309711    56.65          payment     restaurant     Berlin   \n",
       "\n",
       "        device_used  is_fraud        fraud_type  time_since_last_transaction  \\\n",
       "7720         mobile      True  card_not_present                 -4435.604463   \n",
       "14513           atm      True  card_not_present                  -543.435253   \n",
       "21111           atm      True  card_not_present                  3339.160882   \n",
       "24247        mobile      True  card_not_present                 -5616.318212   \n",
       "24325           pos      True  card_not_present                 -2102.467519   \n",
       "...             ...       ...               ...                          ...   \n",
       "4999814      mobile      True  card_not_present                  1056.262600   \n",
       "4999886         atm      True  card_not_present                 -1921.513458   \n",
       "4999892         atm      True  card_not_present                 -4157.968161   \n",
       "4999926      mobile      True  card_not_present                  4273.501792   \n",
       "4999940         web      True  card_not_present                 -2884.790413   \n",
       "\n",
       "         spending_deviation_score  velocity_score  geo_anomaly_score  \\\n",
       "7720                        -1.18              16               0.51   \n",
       "14513                        0.18               8               0.47   \n",
       "21111                        0.57              10               0.50   \n",
       "24247                       -0.11               1               0.93   \n",
       "24325                       -0.06               7               0.22   \n",
       "...                           ...             ...                ...   \n",
       "4999814                     -0.20               2               0.13   \n",
       "4999886                      0.77               6               0.19   \n",
       "4999892                     -0.65              10               0.23   \n",
       "4999926                     -1.09              20               0.75   \n",
       "4999940                      0.73               7               0.36   \n",
       "\n",
       "        payment_channel       ip_address device_hash  \n",
       "7720                ACH   207.94.248.163    D9978939  \n",
       "14513               UPI    34.66.126.237    D9225721  \n",
       "21111               ACH  115.218.159.229    D6163373  \n",
       "24247               ACH    102.102.14.51    D1201766  \n",
       "24325               UPI  134.105.153.161    D6904335  \n",
       "...                 ...              ...         ...  \n",
       "4999814            card     255.41.159.2    D4594677  \n",
       "4999886             UPI    17.184.148.68    D9526544  \n",
       "4999892             ACH   137.138.63.155    D4334446  \n",
       "4999926   wire_transfer   98.198.189.192    D2985475  \n",
       "4999940            card    94.110.88.113    D6468788  \n",
       "\n",
       "[179553 rows x 18 columns]"
      ]
     },
     "execution_count": 10,
     "metadata": {},
     "output_type": "execute_result"
    }
   ],
   "source": [
    "#rename column\n",
    "df.rename(columns={\"merchant_category\":\"merchant_type\"})\n"
   ]
  },
  {
   "cell_type": "code",
   "execution_count": 11,
   "metadata": {},
   "outputs": [
    {
     "data": {
      "text/html": [
       "<div>\n",
       "<style scoped>\n",
       "    .dataframe tbody tr th:only-of-type {\n",
       "        vertical-align: middle;\n",
       "    }\n",
       "\n",
       "    .dataframe tbody tr th {\n",
       "        vertical-align: top;\n",
       "    }\n",
       "\n",
       "    .dataframe thead th {\n",
       "        text-align: right;\n",
       "    }\n",
       "</style>\n",
       "<table border=\"1\" class=\"dataframe\">\n",
       "  <thead>\n",
       "    <tr style=\"text-align: right;\">\n",
       "      <th></th>\n",
       "      <th>transaction_type</th>\n",
       "      <th>location</th>\n",
       "      <th>device_used</th>\n",
       "    </tr>\n",
       "  </thead>\n",
       "  <tbody>\n",
       "    <tr>\n",
       "      <th>count</th>\n",
       "      <td>179553</td>\n",
       "      <td>179553</td>\n",
       "      <td>179553</td>\n",
       "    </tr>\n",
       "    <tr>\n",
       "      <th>unique</th>\n",
       "      <td>4</td>\n",
       "      <td>8</td>\n",
       "      <td>4</td>\n",
       "    </tr>\n",
       "    <tr>\n",
       "      <th>top</th>\n",
       "      <td>transfer</td>\n",
       "      <td>Toronto</td>\n",
       "      <td>atm</td>\n",
       "    </tr>\n",
       "    <tr>\n",
       "      <th>freq</th>\n",
       "      <td>45328</td>\n",
       "      <td>22501</td>\n",
       "      <td>45217</td>\n",
       "    </tr>\n",
       "  </tbody>\n",
       "</table>\n",
       "</div>"
      ],
      "text/plain": [
       "       transaction_type location device_used\n",
       "count            179553   179553      179553\n",
       "unique                4        8           4\n",
       "top            transfer  Toronto         atm\n",
       "freq              45328    22501       45217"
      ]
     },
     "execution_count": 11,
     "metadata": {},
     "output_type": "execute_result"
    }
   ],
   "source": [
    "#  specific columns\n",
    "df[['transaction_type','location', 'device_used']].describe()\n"
   ]
  },
  {
   "cell_type": "code",
   "execution_count": 12,
   "metadata": {},
   "outputs": [
    {
     "data": {
      "image/png": "[encoded data removed]",
      "text/plain": [
       "<Figure size 640x480 with 1 Axes>"
      ]
     },
     "metadata": {},
     "output_type": "display_data"
    }
   ],
   "source": [
    "# plotting a bar chart for location and it's count\n",
    "\n",
    "ax = sns.countplot(x = 'location',data = df)\n",
    "\n",
    "for bars in ax.containers:\n",
    "    ax.bar_label(bars)\n",
    "    plt.show()\n"
   ]
  },
  {
   "cell_type": "code",
   "execution_count": 13,
   "metadata": {},
   "outputs": [
    {
     "name": "stdout",
     "output_type": "stream",
     "text": [
      "[ True]\n",
      "is_fraud\n",
      "1    179553\n",
      "Name: count, dtype: int64\n"
     ]
    }
   ],
   "source": [
    "# Check the unique values before converting\n",
    "print(df['is_fraud'].unique())\n",
    "\n",
    "# Convert 'true'/'false' strings to 1/0 if needed\n",
    "df['is_fraud'] = df['is_fraud'].astype(str).str.lower().map({'true': 1, 'false': 0})\n",
    "\n",
    "# Now check again\n",
    "print(df['is_fraud'].value_counts())"
   ]
  },
  {
   "cell_type": "code",
   "execution_count": 14,
   "metadata": {},
   "outputs": [
    {
     "name": "stdout",
     "output_type": "stream",
     "text": [
      "is_fraud\n",
      "1    179553\n",
      "Name: count, dtype: int64\n",
      "[1]\n"
     ]
    }
   ],
   "source": [
    "# Display the count of each unique value in the 'is_fraud' column, including any missing (NaN) values\n",
    "print(df['is_fraud'].value_counts(dropna=False))\n",
    "\n",
    "# Display all unique values present in the 'is_fraud' column to check data consistency\n",
    "print(df['is_fraud'].unique())"
   ]
  },
  {
   "cell_type": "code",
   "execution_count": 15,
   "metadata": {},
   "outputs": [
    {
     "name": "stdout",
     "output_type": "stream",
     "text": [
      "is_fraud\n",
      "1    179553\n",
      "0     20000\n",
      "Name: count, dtype: int64\n"
     ]
    }
   ],
   "source": [
    "# This helps ensure class balance for fair comparison in visualisations and hypothesis testing.\n",
    "# Step 1: Create synthetic non-fraud transactions\n",
    "non_fraud = df.sample(n=20000, replace=True).copy()  # or however many you need\n",
    "non_fraud['is_fraud'] = 0\n",
    "\n",
    "# Step 2: Combine with the original fraud dataset\n",
    "df_combined = pd.concat([df, non_fraud], ignore_index=True)\n",
    "\n",
    "# Step 3: Check the value distribution again\n",
    "print(df_combined['is_fraud'].value_counts())"
   ]
  },
  {
   "cell_type": "code",
   "execution_count": 16,
   "metadata": {},
   "outputs": [
    {
     "data": {
      "image/png": "[encoded data removed]",
      "text/plain": [
       "<Figure size 600x600 with 1 Axes>"
      ]
     },
     "metadata": {},
     "output_type": "display_data"
    }
   ],
   "source": [
    "# Create a pie chart to visualise the proportion of fraud vs. non-fraud transactions\n",
    "\n",
    "fraud_counts = df_combined['is_fraud'].value_counts()\n",
    "labels = ['Not Fraud' if i == 0 else 'Fraud' for i in fraud_counts.index]\n",
    "\n",
    "plt.figure(figsize=(6, 6))\n",
    "plt.pie(fraud_counts, labels=labels, autopct='%1.1f%%', startangle=140, colors=['lightgreen', 'lightcoral'])\n",
    "plt.title('Proportion of Fraudulent vs Non-Fraudulent Transactions')\n",
    "plt.axis('equal')\n",
    "plt.show()"
   ]
  },
  {
   "cell_type": "code",
   "execution_count": 17,
   "metadata": {},
   "outputs": [
    {
     "data": {
      "image/png": "[encoded data removed]",
      "text/plain": [
       "<Figure size 640x480 with 1 Axes>"
      ]
     },
     "metadata": {},
     "output_type": "display_data"
    }
   ],
   "source": [
    "# Calculating and plotting the average transaction amount by transaction type\n",
    "avg_amount_type = df.groupby('transaction_type')['amount'].mean().reset_index().sort_values(by='amount', ascending=False)\n",
    "\n",
    "sns.barplot(x='transaction_type', y='amount', data=avg_amount_type)\n",
    "plt.title('Average Transaction Amount by Type')\n",
    "plt.xticks(rotation=45)\n",
    "plt.show()\n"
   ]
  },
  {
   "cell_type": "code",
   "execution_count": 18,
   "metadata": {},
   "outputs": [
    {
     "data": {
      "image/png": "[encoded data removed]",
      "text/plain": [
       "<Figure size 640x480 with 1 Axes>"
      ]
     },
     "metadata": {},
     "output_type": "display_data"
    }
   ],
   "source": [
    "# Counting and plotting the number of fraud cases by location\n",
    "fraud_by_location = df[df['is_fraud'] == 1].groupby('location').size().reset_index(name='fraud_count').sort_values(by='fraud_count', ascending=False)\n",
    "\n",
    "sns.barplot(x='location', y='fraud_count', data=fraud_by_location)\n",
    "plt.title('Fraud Count by Location')\n",
    "plt.xticks(rotation=45)\n",
    "plt.show()\n"
   ]
  },
  {
   "cell_type": "code",
   "execution_count": 19,
   "metadata": {},
   "outputs": [
    {
     "data": {
      "image/png": "[encoded data removed]",
      "text/plain": [
       "<Figure size 640x480 with 1 Axes>"
      ]
     },
     "metadata": {},
     "output_type": "display_data"
    }
   ],
   "source": [
    "# Boxplot showing the distribution of time since last transaction for fraud and non-fraud\n",
    "sns.boxplot(x='is_fraud', y='time_since_last_transaction', data=df_combined)\n",
    "plt.title('Time Since Last Transaction: Fraud vs Non-Fraud')\n",
    "plt.xticks([0, 1], ['Not Fraud', 'Fraud'])  # Replaces 0 and 1 with labels\n",
    "plt.xlabel('Transaction Type')\n",
    "plt.ylabel('Time Since Last Transaction')\n",
    "plt.show()\n"
   ]
  },
  {
   "cell_type": "code",
   "execution_count": 20,
   "metadata": {},
   "outputs": [
    {
     "name": "stdout",
     "output_type": "stream",
     "text": [
      "is_fraud\n",
      "1    180053\n",
      "Name: count, dtype: int64\n"
     ]
    }
   ],
   "source": [
    "#This visualisation helps to understand the class distribution after balancing the dataset.\n",
    "import numpy as np\n",
    "# Add 500 synthetic fraud records from different payment channels\n",
    "fraud_samples = df.sample(n=500, replace=True).copy()\n",
    "fraud_samples['is_fraud'] = 1\n",
    "\n",
    "# Optional: Randomly assign fraud across payment channels\n",
    "fraud_samples['payment_channel'] = np.random.choice(df['payment_channel'].unique(), size=500)\n",
    "\n",
    "# Combine with original data\n",
    "df_combined = pd.concat([df, fraud_samples], ignore_index=True)\n",
    "\n",
    "# Verify\n",
    "print(df_combined['is_fraud'].value_counts())"
   ]
  },
  {
   "cell_type": "code",
   "execution_count": 21,
   "metadata": {},
   "outputs": [
    {
     "name": "stdout",
     "output_type": "stream",
     "text": [
      "Unique payment channels: ['ACH' 'UPI' 'card' 'wire_transfer']\n",
      "\n",
      "Contingency Table:\n",
      " is_fraud             1\n",
      "payment_channel       \n",
      "ACH              44738\n",
      "UPI              44896\n",
      "card             44885\n",
      "wire_transfer    45034\n",
      "\n",
      "Chi-square statistic: 0.0\n",
      "P-value: 1.0\n",
      "Result: Fail to reject the null hypothesis. No significant difference in fraud likelihood by channel.\n"
     ]
    }
   ],
   "source": [
    "# Hypothesis1: “The likelihood of a transaction being fraudulent is higher for transactions made using mobile devices compared to those made using ATMs.”\n",
    "from scipy.stats import chi2_contingency\n",
    "\n",
    "\n",
    "# Ensure correct data types\n",
    "df['is_fraud'] = df['is_fraud'].astype(int)\n",
    "df['payment_channel'] = df['payment_channel'].astype(str)\n",
    "\n",
    "# Display unique channels (optional, for clarity)\n",
    "print(\"Unique payment channels:\", df['payment_channel'].unique())\n",
    "\n",
    "# Create a contingency table\n",
    "contingency_table = pd.crosstab(df['payment_channel'], df['is_fraud'])\n",
    "\n",
    "# Display the table\n",
    "print(\"\\nContingency Table:\\n\", contingency_table)\n",
    "\n",
    "# Perform Chi-Square test\n",
    "chi2, p, dof, expected = chi2_contingency(contingency_table)\n",
    "\n",
    "# Output results\n",
    "print(f\"\\nChi-square statistic: {chi2}\")\n",
    "print(f\"P-value: {p}\")\n",
    "\n",
    "# Interpret the result\n",
    "alpha = 0.05\n",
    "if p < alpha:\n",
    "    print(\"Result: Reject the null hypothesis. Fraud likelihood differs by payment channel.\")\n",
    "else:\n",
    "    print(\"Result: Fail to reject the null hypothesis. No significant difference in fraud likelihood by channel.\")"
   ]
  },
  {
   "cell_type": "code",
   "execution_count": 22,
   "metadata": {},
   "outputs": [
    {
     "name": "stdout",
     "output_type": "stream",
     "text": [
      "Number of unique locations: 8\n",
      "\n",
      "Contingency Table:\n",
      " is_fraud       1\n",
      "location        \n",
      "Berlin     22435\n",
      "Dubai      22340\n",
      "London     22478\n",
      "New York   22460\n",
      "Singapore  22461\n",
      "Sydney     22458\n",
      "Tokyo      22420\n",
      "Toronto    22501\n",
      "\n",
      "Chi-square statistic: 0.0\n",
      "P-value: 1.0\n",
      "Result: Fail to reject the null hypothesis. No evidence of location affecting fraud.\n"
     ]
    }
   ],
   "source": [
    "# Hypothesis2: \"There is a significant association between transaction location and the likelihood of fraud.\"\n",
    "\n",
    "# Ensure the relevant columns are in the correct format\n",
    "df['is_fraud'] = df['is_fraud'].astype(int)\n",
    "df['location'] = df['location'].astype(str)\n",
    "\n",
    "# Optional: check number of unique locations (to avoid performance issues)\n",
    "print(\"Number of unique locations:\", df['location'].nunique())\n",
    "\n",
    "# If there are too many locations, consider filtering or grouping\n",
    "\n",
    "# Create a contingency table\n",
    "contingency_table = pd.crosstab(df['location'], df['is_fraud'])\n",
    "\n",
    "# Show the table\n",
    "print(\"\\nContingency Table:\\n\", contingency_table)\n",
    "\n",
    "# Perform the Chi-Square test\n",
    "chi2, p, dof, expected = chi2_contingency(contingency_table)\n",
    "\n",
    "# Show results\n",
    "print(f\"\\nChi-square statistic: {chi2}\")\n",
    "print(f\"P-value: {p}\")\n",
    "\n",
    "# Interpret result\n",
    "alpha = 0.05\n",
    "if p < alpha:\n",
    "    print(\"Result: Reject the null hypothesis. Fraud likelihood is associated with location.\")\n",
    "else:\n",
    "    print(\"Result: Fail to reject the null hypothesis. No evidence of location affecting fraud.\")\n"
   ]
  },
  {
   "cell_type": "code",
   "execution_count": 23,
   "metadata": {},
   "outputs": [
    {
     "name": "stdout",
     "output_type": "stream",
     "text": [
      "Payment Channels: ['ACH' 'UPI' 'card' 'wire_transfer']\n",
      "\n",
      "Contingency Table:\n",
      " is_fraud             1\n",
      "payment_channel       \n",
      "ACH              44738\n",
      "UPI              44896\n",
      "card             44885\n",
      "wire_transfer    45034\n",
      "\n",
      "Chi-square statistic: 0.0\n",
      "P-value: 1.0\n",
      "Degrees of freedom: 0\n",
      "Result: Fail to reject the null hypothesis. No significant association found.\n"
     ]
    }
   ],
   "source": [
    "# Ensure data types are correct\n",
    "df['is_fraud'] = df['is_fraud'].astype(int)\n",
    "df['payment_channel'] = df['payment_channel'].astype(str)\n",
    "\n",
    "# Show unique payment channels (optional)\n",
    "print(\"Payment Channels:\", df['payment_channel'].unique())\n",
    "\n",
    "# Create a contingency table\n",
    "contingency_table = pd.crosstab(df['payment_channel'], df['is_fraud'])\n",
    "\n",
    "# Display the table\n",
    "print(\"\\nContingency Table:\\n\", contingency_table)\n",
    "\n",
    "# Run Chi-Square Test\n",
    "chi2, p, dof, expected = chi2_contingency(contingency_table)\n",
    "\n",
    "# Display results\n",
    "print(f\"\\nChi-square statistic: {chi2}\")\n",
    "print(f\"P-value: {p}\")\n",
    "print(f\"Degrees of freedom: {dof}\")\n",
    "\n",
    "# Interpret results\n",
    "alpha = 0.05\n",
    "if p < alpha:\n",
    "    print(\"Result: Reject the null hypothesis. Fraud is associated with payment channel.\")\n",
    "else:\n",
    "    print(\"Result: Fail to reject the null hypothesis. No significant association found.\")"
   ]
  },
  {
   "cell_type": "code",
   "execution_count": 26,
   "metadata": {},
   "outputs": [],
   "source": [
    "\n",
    "\n",
    "# Load original data using actual path\n",
    "df['is_fraud'] = df['is_fraud'].astype(int)\n",
    "\n",
    "# Create synthetic non-fraud transactions (for class balancing)\n",
    "non_fraud = df[df['is_fraud'] == 0].sample(n=20000, replace=True).copy()\n",
    "non_fraud['is_fraud'] = 0\n",
    "\n",
    "# Combine original with synthetic non-fraud\n",
    "df_combined = pd.concat([df, non_fraud], ignore_index=True)"
   ]
  },
  {
   "cell_type": "code",
   "execution_count": 29,
   "metadata": {},
   "outputs": [],
   "source": [
    "# Downsample non-fraud to match fraud\n",
    "fraud = df[df['is_fraud'] == 1]\n",
    "non_fraud = df[df['is_fraud'] == 0].sample(n=len(fraud), random_state=42)\n",
    "\n",
    "df_balanced = pd.concat([fraud, non_fraud])"
   ]
  },
  {
   "cell_type": "code",
   "execution_count": 33,
   "metadata": {},
   "outputs": [
    {
     "name": "stdout",
     "output_type": "stream",
     "text": [
      "Confusion Matrix:\n",
      "[[748391 703721]\n",
      " [ 27965  25923]]\n",
      "\n",
      "Classification Report:\n",
      "              precision    recall  f1-score   support\n",
      "\n",
      "           0       0.96      0.52      0.67   1452112\n",
      "           1       0.04      0.48      0.07     53888\n",
      "\n",
      "    accuracy                           0.51   1506000\n",
      "   macro avg       0.50      0.50      0.37   1506000\n",
      "weighted avg       0.93      0.51      0.65   1506000\n",
      "\n"
     ]
    }
   ],
   "source": [
    "from sklearn.model_selection import train_test_split\n",
    "from sklearn.linear_model import LogisticRegression\n",
    "from sklearn.preprocessing import OneHotEncoder\n",
    "from sklearn.metrics import classification_report, confusion_matrix\n",
    "\n",
    "# Step 1: Select relevant features\n",
    "features = ['transaction_type', 'location', 'device_used']\n",
    "target = 'is_fraud'\n",
    "\n",
    "# Step 2: Drop missing values\n",
    "df_model = df_combined[features + [target]].dropna()\n",
    "\n",
    "# Step 3: One-hot encode categorical variables\n",
    "encoder = OneHotEncoder(sparse_output=False, drop='first')\n",
    "X_encoded = encoder.fit_transform(df_model[features])\n",
    "X = pd.DataFrame(X_encoded, columns=encoder.get_feature_names_out(features))\n",
    "y = df_model[target]\n",
    "\n",
    "# Step 4: Train/test split\n",
    "X_train, X_test, y_train, y_test = train_test_split(X, y, test_size=0.3, random_state=42)\n",
    "\n",
    "# ✅ Step 5: Fit logistic regression model with class balancing\n",
    "model = LogisticRegression(max_iter=1000, class_weight='balanced')\n",
    "model.fit(X_train, y_train)\n",
    "\n",
    "# Step 6: Predict and evaluate\n",
    "y_pred = model.predict(X_test)\n",
    "\n",
    "print(\"Confusion Matrix:\")\n",
    "print(confusion_matrix(y_test, y_pred))\n",
    "\n",
    "print(\"\\nClassification Report:\")\n",
    "print(classification_report(y_test, y_pred))"
   ]
  },
  {
   "cell_type": "code",
   "execution_count": 34,
   "metadata": {},
   "outputs": [
    {
     "name": "stdout",
     "output_type": "stream",
     "text": [
      "                               amount  is_fraud  time_since_last_transaction  \\\n",
      "amount                       1.000000 -0.000166                     0.000337   \n",
      "is_fraud                    -0.000166  1.000000                     0.000020   \n",
      "time_since_last_transaction  0.000337  0.000020                     1.000000   \n",
      "spending_deviation_score     0.000769  0.000197                     0.000259   \n",
      "velocity_score              -0.000810  0.000361                     0.000112   \n",
      "geo_anomaly_score            0.000172  0.000302                    -0.000045   \n",
      "\n",
      "                             spending_deviation_score  velocity_score  \\\n",
      "amount                                       0.000769       -0.000810   \n",
      "is_fraud                                     0.000197        0.000361   \n",
      "time_since_last_transaction                  0.000259        0.000112   \n",
      "spending_deviation_score                     1.000000       -0.000161   \n",
      "velocity_score                              -0.000161        1.000000   \n",
      "geo_anomaly_score                            0.000465        0.000332   \n",
      "\n",
      "                             geo_anomaly_score  \n",
      "amount                                0.000172  \n",
      "is_fraud                              0.000302  \n",
      "time_since_last_transaction          -0.000045  \n",
      "spending_deviation_score              0.000465  \n",
      "velocity_score                        0.000332  \n",
      "geo_anomaly_score                     1.000000  \n"
     ]
    },
    {
     "data": {
      "image/png": "[encoded data removed]",
      "text/plain": [
       "<Figure size 1000x600 with 2 Axes>"
      ]
     },
     "metadata": {},
     "output_type": "display_data"
    }
   ],
   "source": [
    "# Check correlations between all numerical fields\n",
    "correlation_matrix = df_combined.corr(numeric_only=True)\n",
    "\n",
    "# Print correlation matrix\n",
    "print(correlation_matrix)\n",
    "\n",
    "# Optional: heatmap\n",
    "import seaborn as sns\n",
    "import matplotlib.pyplot as plt\n",
    "\n",
    "plt.figure(figsize=(10, 6))\n",
    "sns.heatmap(correlation_matrix, annot=True, fmt=\".2f\", cmap=\"coolwarm\")\n",
    "plt.title(\"Correlation Matrix\")\n",
    "plt.show()"
   ]
  }
 ],
 "metadata": {
  "kernelspec": {
   "display_name": "Python 3",
   "language": "python",
   "name": "python3"
  },
  "language_info": {
   "codemirror_mode": {
    "name": "ipython",
    "version": 3
   },
   "file_extension": ".py",
   "mimetype": "text/x-python",
   "name": "python",
   "nbconvert_exporter": "python",
   "pygments_lexer": "ipython3",
   "version": "3.13.3"
  }
 },
 "nbformat": 4,
 "nbformat_minor": 2
}
